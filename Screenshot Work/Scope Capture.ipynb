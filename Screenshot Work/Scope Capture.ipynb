{
 "metadata": {
  "language_info": {
   "codemirror_mode": {
    "name": "ipython",
    "version": 3
   },
   "file_extension": ".py",
   "mimetype": "text/x-python",
   "name": "python",
   "nbconvert_exporter": "python",
   "pygments_lexer": "ipython3",
   "version": "3.8.6-final"
  },
  "orig_nbformat": 2,
  "kernelspec": {
   "name": "python3",
   "display_name": "Python 3.8.6 64-bit",
   "metadata": {
    "interpreter": {
     "hash": "61fa558e5f9aab332e74b95fc93da71606649099c14c307e27fc2948df19b318"
    }
   }
  }
 },
 "nbformat": 4,
 "nbformat_minor": 2,
 "cells": [
  {
   "cell_type": "code",
   "execution_count": null,
   "metadata": {},
   "outputs": [],
   "source": [
    "#https://github.com/twam/scpi-scripts\n",
    "import pyvisa\n",
    "\n",
    "rm = pyvisa.ResourceManager()\n",
    "print(rm.list_resources())\n",
    "\n",
    "deviceIDNs = {}\n",
    "\n",
    "for device in rm.list_resources():\n",
    "    _device = rm.open_resource(device)\n",
    "    _IDN = _device.query('*IDN?')\n",
    "    deviceIDNs[device] = _IDN"
   ]
  },
  {
   "cell_type": "code",
   "execution_count": null,
   "metadata": {},
   "outputs": [],
   "source": [
    "for key,value in deviceIDNs.items():\n",
    "    if 'SO-X' in value:\n",
    "        scopeResource = key"
   ]
  },
  {
   "cell_type": "code",
   "execution_count": null,
   "metadata": {},
   "outputs": [],
   "source": [
    "scope = rm.open_resource(scopeResource)\n",
    "scope.read_termination = '\\n'\n",
    "scope.write_termination = '\\n'\n",
    "scope.timeout = 5000\n",
    "print(scope.query('*IDN?'))"
   ]
  },
  {
   "cell_type": "code",
   "execution_count": null,
   "metadata": {},
   "outputs": [],
   "source": [
    "from datetime import datetime\n",
    "\n",
    "fileDate = str(datetime.now()).replace(':','_').replace(' ',' ')                #Timestamp\n",
    "\n",
    "scope.write(':HARDcopy:INKSaver 0')                                             #Black Background\n",
    "data = scope.query_binary_values(':DISPlay:DATA? PNG, COLOR', datatype='B')     #Request Image Data, uses uint8t data type.  https://docs.python.org/2/library/struct.html#format-characters\n",
    "\n",
    "newfile=open(f'Capture_{fileDate}.png','wb')\n",
    "newfile.write(bytearray(data))"
   ]
  }
 ]
}