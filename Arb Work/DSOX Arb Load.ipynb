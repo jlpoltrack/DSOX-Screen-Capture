{
 "metadata": {
  "language_info": {
   "codemirror_mode": {
    "name": "ipython",
    "version": 3
   },
   "file_extension": ".py",
   "mimetype": "text/x-python",
   "name": "python",
   "nbconvert_exporter": "python",
   "pygments_lexer": "ipython3",
   "version": "3.8.6-final"
  },
  "orig_nbformat": 2,
  "kernelspec": {
   "name": "python3",
   "display_name": "Python 3.8.6 64-bit",
   "metadata": {
    "interpreter": {
     "hash": "61fa558e5f9aab332e74b95fc93da71606649099c14c307e27fc2948df19b318"
    }
   }
  }
 },
 "nbformat": 4,
 "nbformat_minor": 2,
 "cells": [
  {
   "cell_type": "code",
   "execution_count": null,
   "metadata": {},
   "outputs": [],
   "source": [
    "import pyvisa\n",
    "\n",
    "rm = pyvisa.ResourceManager()\n",
    "print(rm.list_resources())\n",
    "\n",
    "for device in rm.list_resources():\n",
    "    deviceIDNs = {}\n",
    "    _device = rm.open_resource(device)\n",
    "    _IDN = _device.query('*IDN?')\n",
    "    deviceIDNs[device] = _IDN\n",
    "\n",
    "for key,value in deviceIDNs.items():\n",
    "    if 'SO-X' in value:\n",
    "        scopeResource = key\n",
    "\n",
    "scope = rm.open_resource(scopeResource)\n",
    "scope.timeout = 10000\n",
    "print(scope.query('*IDN?'))"
   ]
  },
  {
   "cell_type": "code",
   "execution_count": 18,
   "metadata": {},
   "outputs": [
    {
     "output_type": "stream",
     "name": "stdout",
     "text": [
      "Enter Wavegen Channel (1 or 2):\n",
      "\tWavegen Channel set to: 2\n",
      "Enter Arb Frequency (Hz):\n",
      "\tFrequency set to: 15,000 Hz\n"
     ]
    }
   ],
   "source": [
    "import numpy as np\n",
    "\n",
    "#Arb Data must been between -1 and 1\n",
    "arbFilename = 'Sample ArbV4.csv'\n",
    "\n",
    "with open(arbFilename, 'r'):\n",
    "    arbData = np.loadtxt(arbFilename, delimiter=',')\n",
    "\n",
    "#Get the Wavegen Channel\n",
    "while True:\n",
    "    print('Enter Wavegen Channel (1 or 2):')\n",
    "    channel = input()\n",
    "    if channel not in ['1','2']:\n",
    "        print('Please enter 1 or 2')\n",
    "        continue\n",
    "    break\n",
    "    \n",
    "print(f'\\tWavegen Channel set to: {channel}')\n",
    "\n",
    "#Get the Frequency\n",
    "while True:\n",
    "    print('Enter Arb Frequency (Hz):')\n",
    "    freq = input()\n",
    "    try:\n",
    "        float(freq)\n",
    "    except:\n",
    "        print('Please enter a numeric frequency')\n",
    "        continue\n",
    "    if float(freq) > 20e+06:\n",
    "        print('Maximum frequency is 20 MHz')\n",
    "        continue\n",
    "    if float(freq) < 1:\n",
    "        print('Frequency must be positive')\n",
    "        continue\n",
    "    break\n",
    "\n",
    "print(f'\\tFrequency set to: {float(freq):,g} Hz')"
   ]
  },
  {
   "cell_type": "code",
   "execution_count": 19,
   "metadata": {},
   "outputs": [
    {
     "output_type": "execute_result",
     "data": {
      "text/plain": [
       "18"
      ]
     },
     "metadata": {},
     "execution_count": 19
    }
   ],
   "source": [
    "scope.write(f':WGEN{channel}:RST')\n",
    "scope.write_binary_values(f':WGEN{channel}:ARBitrary:DATA ', arbData, datatype = 'f', is_big_endian = False)\n",
    "scope.query('*OPC?')\n",
    "scope.write(f':WGEN{channel}:FREQuency {freq}')\n",
    "scope.write(f':WGEN{channel}:Voltage 1')\n",
    "scope.write(f':WGEN{channel}:OUTPut ON')"
   ]
  },
  {
   "cell_type": "code",
   "execution_count": 10,
   "metadata": {},
   "outputs": [
    {
     "output_type": "error",
     "ename": "ValueError",
     "evalue": "could not convert string to float: 'bananas'",
     "traceback": [
      "\u001b[1;31m---------------------------------------------------------------------------\u001b[0m",
      "\u001b[1;31mValueError\u001b[0m                                Traceback (most recent call last)",
      "\u001b[1;32m<ipython-input-10-0213e6227244>\u001b[0m in \u001b[0;36m<module>\u001b[1;34m\u001b[0m\n\u001b[1;32m----> 1\u001b[1;33m \u001b[0mfloat\u001b[0m\u001b[1;33m(\u001b[0m\u001b[1;34m'bananas'\u001b[0m\u001b[1;33m)\u001b[0m\u001b[1;33m\u001b[0m\u001b[1;33m\u001b[0m\u001b[0m\n\u001b[0m",
      "\u001b[1;31mValueError\u001b[0m: could not convert string to float: 'bananas'"
     ]
    }
   ],
   "source": [
    "float('bananas')"
   ]
  },
  {
   "cell_type": "code",
   "execution_count": null,
   "metadata": {},
   "outputs": [],
   "source": []
  }
 ]
}