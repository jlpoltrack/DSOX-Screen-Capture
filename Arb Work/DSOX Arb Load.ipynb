{
 "metadata": {
  "language_info": {
   "codemirror_mode": {
    "name": "ipython",
    "version": 3
   },
   "file_extension": ".py",
   "mimetype": "text/x-python",
   "name": "python",
   "nbconvert_exporter": "python",
   "pygments_lexer": "ipython3",
   "version": "3.8.6-final"
  },
  "orig_nbformat": 2,
  "kernelspec": {
   "name": "python3",
   "display_name": "Python 3.8.6 64-bit",
   "metadata": {
    "interpreter": {
     "hash": "61fa558e5f9aab332e74b95fc93da71606649099c14c307e27fc2948df19b318"
    }
   }
  }
 },
 "nbformat": 4,
 "nbformat_minor": 2,
 "cells": [
  {
   "cell_type": "code",
   "execution_count": null,
   "metadata": {},
   "outputs": [],
   "source": [
    "import pyvisa\n",
    "\n",
    "rm = pyvisa.ResourceManager()\n",
    "print(rm.list_resources())\n",
    "\n",
    "deviceIDNs = {}\n",
    "\n",
    "for device in rm.list_resources():\n",
    "    _device = rm.open_resource(device)\n",
    "    _IDN = _device.query('*IDN?')\n",
    "    deviceIDNs[device] = _IDN\n",
    "\n",
    "for key,value in deviceIDNs.items():\n",
    "    if 'SO-X' in value:\n",
    "        scopeResource = key\n",
    "        break\n",
    "\n",
    "scope = rm.open_resource(scopeResource)\n",
    "scope.timeout = 10000\n",
    "print(scope.query('*IDN?'))"
   ]
  },
  {
   "cell_type": "code",
   "execution_count": null,
   "metadata": {},
   "outputs": [],
   "source": [
    "import numpy as np\n",
    "\n",
    "#Arb Data must been between -1 and 1\n",
    "arbFilename = 'Sample ArbV4.csv'\n",
    "\n",
    "with open(arbFilename, 'r'):\n",
    "    arbData = np.loadtxt(arbFilename, delimiter=',')"
   ]
  },
  {
   "cell_type": "code",
   "execution_count": null,
   "metadata": {},
   "outputs": [],
   "source": [
    "#Get the Wavegen Channel\n",
    "while True:\n",
    "    print('Enter Wavegen Channel (1 or 2):')\n",
    "    channel = input()\n",
    "    if channel not in ['1','2']:\n",
    "        print('Please enter 1 or 2')\n",
    "        continue\n",
    "    break\n",
    "    \n",
    "print(f'\\tWavegen Channel set to: {channel}')\n",
    "\n",
    "#Get the Frequency\n",
    "while True:\n",
    "    print('Enter Arb Frequency (Hz):')\n",
    "    freq = input()\n",
    "    try:\n",
    "        float(freq)\n",
    "    except:\n",
    "        print('Please enter a numeric frequency')\n",
    "        continue\n",
    "    if float(freq) > 20e+06:\n",
    "        print('Maximum frequency is 20 MHz')\n",
    "        continue\n",
    "    if float(freq) < 0.1:\n",
    "        print('Frequency must be positive')\n",
    "        continue\n",
    "    break\n",
    "\n",
    "print(f'\\tFrequency set to: {float(freq):,g} Hz')\n",
    "\n",
    "#Get the Amplitude\n",
    "while True:\n",
    "    print('Enter Arb Amplitude (Vpp):')\n",
    "    amplitude = input()\n",
    "    try:\n",
    "        float(amplitude)\n",
    "    except:\n",
    "        print('Please enter a numeric amplitude')\n",
    "        continue\n",
    "    if float(amplitude) > 10:\n",
    "        print('Maximum Amplitude is 10 Volts')\n",
    "        continue\n",
    "    if float(amplitude) < .1:\n",
    "        print('Amplitude must be positive')\n",
    "        continue\n",
    "    break\n",
    "\n",
    "print(f'\\tAmplitude set to: {float(amplitude):,g} Volts')"
   ]
  },
  {
   "cell_type": "code",
   "execution_count": null,
   "metadata": {},
   "outputs": [],
   "source": [
    "scope.write(f':WGEN{channel}:RST')\n",
    "scope.write_binary_values(f':WGEN{channel}:ARBitrary:DATA ', arbData, datatype = 'f', is_big_endian = False)\n",
    "scope.query('*OPC?')\n",
    "scope.write(f':WGEN{channel}:FREQuency {freq}')\n",
    "scope.write(f':WGEN{channel}:Voltage {amplitude}')\n",
    "scope.write(f':WGEN{channel}:OUTPut ON')"
   ]
  }
 ]
}