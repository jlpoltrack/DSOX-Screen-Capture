{
 "metadata": {
  "language_info": {
   "codemirror_mode": {
    "name": "ipython",
    "version": 3
   },
   "file_extension": ".py",
   "mimetype": "text/x-python",
   "name": "python",
   "nbconvert_exporter": "python",
   "pygments_lexer": "ipython3",
   "version": "3.8.6-final"
  },
  "orig_nbformat": 2,
  "kernelspec": {
   "name": "python3",
   "display_name": "Python 3.8.6 64-bit",
   "metadata": {
    "interpreter": {
     "hash": "61fa558e5f9aab332e74b95fc93da71606649099c14c307e27fc2948df19b318"
    }
   }
  }
 },
 "nbformat": 4,
 "nbformat_minor": 2,
 "cells": [
  {
   "cell_type": "code",
   "execution_count": 1,
   "metadata": {},
   "outputs": [
    {
     "output_type": "stream",
     "name": "stdout",
     "text": [
      "('USB0::0x0957::0x17B6::MY55110206::0::INSTR',)\n",
      "AGILENT TECHNOLOGIES,MSO-X 4024A,MY55110206,07.35.2020120823\n",
      "\n"
     ]
    }
   ],
   "source": [
    "import pyvisa\n",
    "\n",
    "rm = pyvisa.ResourceManager()\n",
    "print(rm.list_resources())\n",
    "\n",
    "deviceIDNs = {}\n",
    "\n",
    "for device in rm.list_resources():\n",
    "    _device = rm.open_resource(device)\n",
    "    _IDN = _device.query('*IDN?')\n",
    "    deviceIDNs[device] = _IDN\n",
    "\n",
    "for key,value in deviceIDNs.items():\n",
    "    if 'SO-X' in value:\n",
    "        scopeResource = key\n",
    "        break\n",
    "\n",
    "scope = rm.open_resource(scopeResource)\n",
    "scope.timeout = 10000\n",
    "print(scope.query('*IDN?'))"
   ]
  },
  {
   "cell_type": "code",
   "execution_count": 4,
   "metadata": {},
   "outputs": [
    {
     "output_type": "execute_result",
     "data": {
      "text/plain": [
       "        Time Serial Bus  Rx Tx            Errors\n",
       "0   -440.0us    Serial1         Unknown Tx Error\n",
       "1   -35.92us    Serial1   T                     \n",
       "2    19.92us    Serial1   e                     \n",
       "3    72.24us    Serial1   s                     \n",
       "4    124.5us    Serial1   t                     \n",
       "..       ...        ...  .. ..               ...\n",
       "64   3.275ms    Serial1   e                     \n",
       "65   3.327ms    Serial1   n                     \n",
       "66   3.379ms    Serial1   !                     \n",
       "67   3.432ms    Serial1  CR                     \n",
       "68   3.484ms    Serial1  LF                     \n",
       "\n",
       "[69 rows x 5 columns]"
      ],
      "text/html": "<div>\n<style scoped>\n    .dataframe tbody tr th:only-of-type {\n        vertical-align: middle;\n    }\n\n    .dataframe tbody tr th {\n        vertical-align: top;\n    }\n\n    .dataframe thead th {\n        text-align: right;\n    }\n</style>\n<table border=\"1\" class=\"dataframe\">\n  <thead>\n    <tr style=\"text-align: right;\">\n      <th></th>\n      <th>Time</th>\n      <th>Serial Bus</th>\n      <th>Rx</th>\n      <th>Tx</th>\n      <th>Errors</th>\n    </tr>\n  </thead>\n  <tbody>\n    <tr>\n      <th>0</th>\n      <td>-440.0us</td>\n      <td>Serial1</td>\n      <td></td>\n      <td></td>\n      <td>Unknown Tx Error</td>\n    </tr>\n    <tr>\n      <th>1</th>\n      <td>-35.92us</td>\n      <td>Serial1</td>\n      <td>T</td>\n      <td></td>\n      <td></td>\n    </tr>\n    <tr>\n      <th>2</th>\n      <td>19.92us</td>\n      <td>Serial1</td>\n      <td>e</td>\n      <td></td>\n      <td></td>\n    </tr>\n    <tr>\n      <th>3</th>\n      <td>72.24us</td>\n      <td>Serial1</td>\n      <td>s</td>\n      <td></td>\n      <td></td>\n    </tr>\n    <tr>\n      <th>4</th>\n      <td>124.5us</td>\n      <td>Serial1</td>\n      <td>t</td>\n      <td></td>\n      <td></td>\n    </tr>\n    <tr>\n      <th>...</th>\n      <td>...</td>\n      <td>...</td>\n      <td>...</td>\n      <td>...</td>\n      <td>...</td>\n    </tr>\n    <tr>\n      <th>64</th>\n      <td>3.275ms</td>\n      <td>Serial1</td>\n      <td>e</td>\n      <td></td>\n      <td></td>\n    </tr>\n    <tr>\n      <th>65</th>\n      <td>3.327ms</td>\n      <td>Serial1</td>\n      <td>n</td>\n      <td></td>\n      <td></td>\n    </tr>\n    <tr>\n      <th>66</th>\n      <td>3.379ms</td>\n      <td>Serial1</td>\n      <td>!</td>\n      <td></td>\n      <td></td>\n    </tr>\n    <tr>\n      <th>67</th>\n      <td>3.432ms</td>\n      <td>Serial1</td>\n      <td>CR</td>\n      <td></td>\n      <td></td>\n    </tr>\n    <tr>\n      <th>68</th>\n      <td>3.484ms</td>\n      <td>Serial1</td>\n      <td>LF</td>\n      <td></td>\n      <td></td>\n    </tr>\n  </tbody>\n</table>\n<p>69 rows × 5 columns</p>\n</div>"
     },
     "metadata": {},
     "execution_count": 4
    }
   ],
   "source": [
    "scope.write(\":DIGitize\") \n",
    "scope.write(':LISTer:DISPlay 1')\n",
    "listerOutput = scope.query(\":LISTer:DATA?\")\n",
    "\n",
    "listerOutput = listerOutput.split('\\n')\n",
    "\n",
    "import pandas as pd \n",
    "\n",
    "splitList = []\n",
    "\n",
    "for entry in listerOutput[1:]:\n",
    "    splitEntry = entry.split(',')\n",
    "    splitList.append(splitEntry)\n",
    "\n",
    "listerDataframe = pd.DataFrame(splitList, columns = listerOutput[0].split(','))\n",
    "listerDataframe = listerDataframe.drop(listerDataframe.columns[0], axis=1)\n",
    "listerDataframe = listerDataframe[listerDataframe.Time.notnull()]\n",
    "listerDataframe"
   ]
  },
  {
   "cell_type": "code",
   "execution_count": null,
   "metadata": {},
   "outputs": [],
   "source": []
  }
 ]
}