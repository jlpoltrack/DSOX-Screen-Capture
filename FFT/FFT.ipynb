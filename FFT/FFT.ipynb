{
 "metadata": {
  "language_info": {
   "codemirror_mode": {
    "name": "ipython",
    "version": 3
   },
   "file_extension": ".py",
   "mimetype": "text/x-python",
   "name": "python",
   "nbconvert_exporter": "python",
   "pygments_lexer": "ipython3",
   "version": "3.8.6-final"
  },
  "orig_nbformat": 2,
  "kernelspec": {
   "name": "python3",
   "display_name": "Python 3.8.6 64-bit",
   "metadata": {
    "interpreter": {
     "hash": "61fa558e5f9aab332e74b95fc93da71606649099c14c307e27fc2948df19b318"
    }
   }
  }
 },
 "nbformat": 4,
 "nbformat_minor": 2,
 "cells": [
  {
   "cell_type": "code",
   "execution_count": null,
   "metadata": {},
   "outputs": [],
   "source": [
    "#Light Reading\n",
    "#https://www.sjsu.edu/people/burford.furman/docs/me120/FFT_tutorial_NI.pdf\n",
    "#https://kluedo.ub.uni-kl.de/frontdoor/deliver/index/docId/4293/file/exact_fft_measurements.pdf"
   ]
  },
  {
   "cell_type": "code",
   "execution_count": null,
   "metadata": {},
   "outputs": [],
   "source": [
    "import matplotlib.pyplot as plt\n",
    "import numpy as np\n",
    "import pandas as pd\n",
    "from scipy import signal\n",
    "from scipy.fft import fft, fftfreq, fftshift\n",
    "\n",
    "df = pd.read_csv('waveform_25gsps_4m.csv.gz')\n",
    "n = len(df)\n",
    "voltageData = df['CHANnel1 Data'].to_numpy()"
   ]
  },
  {
   "cell_type": "code",
   "execution_count": null,
   "metadata": {},
   "outputs": [],
   "source": [
    "twosidedFFT = (1/n) * abs(fft(voltageData))\n",
    "dcBin = twosidedFFT[0]\n",
    "onesidedFFT  = 2 * twosidedFFT\n",
    "onesidedFFT[0] = dcBin\n",
    "powerFFT = onesidedFFT ** 2\n",
    "powerFFTdBm = 10 * np.log10(powerFFT / (65 * .001))\n",
    "fftFreq = fftfreq(n, (df['Timestamp'].max() - df['Timestamp'].min()) / n)"
   ]
  },
  {
   "cell_type": "code",
   "execution_count": null,
   "metadata": {},
   "outputs": [],
   "source": [
    "freqFrame = pd.DataFrame(fftFreq, columns = ['Frequency (Hz)'])\n",
    "dbmFrame = pd.DataFrame(powerFFTdBm, columns = ['Power (dBm)'])\n",
    "fftFrame = freqFrame.join(dbmFrame)\n",
    "fftFrame = fftFrame.loc[fftFrame['Frequency (Hz)'] > 0]\n",
    "fftFrame['Frequency (MHz)'] = fftFrame['Frequency (Hz)'] / 1E6"
   ]
  },
  {
   "cell_type": "code",
   "execution_count": null,
   "metadata": {},
   "outputs": [],
   "source": [
    "#https://pandas.pydata.org/pandas-docs/stable/reference/api/pandas.DataFrame.plot.html\n",
    "fftFrame.plot(x = 'Frequency (MHz)', y = 'Power (dBm)', title = 'Power (dBM) vs Frequency', figsize = (24,8));  #Semicolon hides prints\n",
    "fftFrame.loc[fftFrame['Power (dBm)'] > -5]"
   ]
  },
  {
   "cell_type": "code",
   "execution_count": null,
   "metadata": {},
   "outputs": [],
   "source": []
  }
 ]
}