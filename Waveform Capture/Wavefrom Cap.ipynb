{
 "metadata": {
  "language_info": {
   "codemirror_mode": {
    "name": "ipython",
    "version": 3
   },
   "file_extension": ".py",
   "mimetype": "text/x-python",
   "name": "python",
   "nbconvert_exporter": "python",
   "pygments_lexer": "ipython3",
   "version": "3.8.6-final"
  },
  "orig_nbformat": 2,
  "kernelspec": {
   "name": "python3",
   "display_name": "Python 3.8.6 64-bit",
   "metadata": {
    "interpreter": {
     "hash": "61fa558e5f9aab332e74b95fc93da71606649099c14c307e27fc2948df19b318"
    }
   }
  }
 },
 "nbformat": 4,
 "nbformat_minor": 2,
 "cells": [
  {
   "cell_type": "code",
   "execution_count": 1,
   "metadata": {},
   "outputs": [
    {
     "output_type": "stream",
     "name": "stdout",
     "text": [
      "('USB0::0x0957::0x17B6::MY55110206::0::INSTR',)\n",
      "AGILENT TECHNOLOGIES,MSO-X 4024A,MY55110206,07.35.2020120823\n",
      "\n"
     ]
    }
   ],
   "source": [
    "import pyvisa\n",
    "\n",
    "rm = pyvisa.ResourceManager()\n",
    "print(rm.list_resources())\n",
    "\n",
    "deviceIDNs = {}\n",
    "\n",
    "for device in rm.list_resources():\n",
    "    _device = rm.open_resource(device)\n",
    "    _IDN = _device.query('*IDN?')\n",
    "    deviceIDNs[device] = _IDN\n",
    "\n",
    "for key,value in deviceIDNs.items():\n",
    "    if 'SO-X' in value:\n",
    "        scopeResource = key\n",
    "        break\n",
    "\n",
    "scope = rm.open_resource(scopeResource)\n",
    "scope.timeout = 10000\n",
    "print(scope.query('*IDN?'))"
   ]
  },
  {
   "cell_type": "code",
   "execution_count": 2,
   "metadata": {},
   "outputs": [],
   "source": [
    "import matplotlib.pyplot as plt\n",
    "import numpy as np\n",
    "import pandas as pd\n",
    "\n",
    "def waveformCapture(sourceList, timestampOffset = 0, waveformPoints = 'NORMal' ):\n",
    "    #Setup data export\n",
    "    scope.write(\":WAVeform:FORMat WORD\")                    #16 bit word format\n",
    "    scope.write(\":WAVeform:BYTeorder LSBFirst\")             #Explicitly set this to avoid confusion\n",
    "    scope.write(\":WAVeform:UNSigned 0\")                     #Explicitly set this to avoid confusion\n",
    "    scope.write(f':WAVeform:POINts:MODE {waveformPoints}')  #Normal / Max\n",
    "\n",
    "    for source in sourceList:\n",
    "        scope.write(f\":WAVeform:SOURce {source}\")       #Set waveform source\n",
    "        \n",
    "        #Get preamble data and parse it\n",
    "        preamble = scope.query(\":WAVeform:PREamble?\").split(',')\n",
    "\n",
    "        acqMode        = int(preamble[1])                       #Scope acquisition mode\n",
    "        datapoints     = int(preamble[2])                       #Get number of acqusition points\n",
    "        xIncrement     = float(preamble[4])                     #Time difference between data points\n",
    "        xOrigin        = float(preamble[5])                     #Always the first data point in memory\n",
    "        xReference     = int(preamble[6])                       #Specifies the data point associated with x-origin\n",
    "        yIncrement     = float(preamble[7])                     #Voltage difference between data points\n",
    "        yOrigin        = float(preamble[8])                     #Voltage at center screen\n",
    "        yReference     = int(preamble[9])                       #Specifies the data point associated with y-origin\n",
    "\n",
    "        try:\n",
    "            waveformTimeDataFrame\n",
    "        except NameError:\n",
    "            #Create an arry of time values using the preamble data, convert it to a dataframe.  Only needs to be done once\n",
    "            waveformTime = ((np.linspace(0, datapoints-1, datapoints) - xReference) * xIncrement ) + xOrigin + timestampOffset\n",
    "            waveformTimeDataFrame = pd.DataFrame(waveformTime, columns = ['Timestamp'])\n",
    "            waveformOutput = waveformTimeDataFrame\n",
    "\n",
    "        #Get the waveform data, convert it to a dataframe, scale it\n",
    "        waveformData = scope.query_binary_values(f':WAVeform:SOURce {source}' + ';DATA?', \"h\", False)  #Returns a List\n",
    "        waveformDataFrame = pd.DataFrame(waveformData, columns = ['Raw Data'])\n",
    "        waveformDataFrame[f'{source} Data'] = ((waveformDataFrame['Raw Data'] - yReference) * yIncrement) + yOrigin\n",
    "        waveformDataFrame = waveformDataFrame.drop(columns = ['Raw Data'])\n",
    "\n",
    "        #Join the time dataframe to the voltage dataframe\n",
    "        waveformOutput = waveformOutput.join(waveformDataFrame)\n",
    "\n",
    "    return(waveformOutput)\n",
    "\n",
    "def waveformPlotter(acqDataframe, figsizeX = 10):\n",
    "    #https://pandas.pydata.org/pandas-docs/stable/reference/api/pandas.DataFrame.plot.html\n",
    "    plt.close(\"all\")\n",
    "\n",
    "    waveformData = list(acqDataframe.columns)[1:]\n",
    "\n",
    "    waveformPlot = acqDataframe.plot(x = 'Timestamp', y = waveformData, title = 'Waveform Data', xlabel = 'Time (Seconds)', ylabel = 'Voltage (Volts)', figsize = (figsizeX,8) , grid = True, legend = True)\n",
    "\n",
    "    return(waveformPlot)"
   ]
  },
  {
   "cell_type": "code",
   "execution_count": null,
   "metadata": {},
   "outputs": [],
   "source": [
    "#Single Channel Capture\n",
    "waveformDataframe = waveformCapture(['CHANnel1'], waveformPoints = 'MAX')\n",
    "samplePlot = waveformPlotter(waveformDataframe)   \n",
    "samplePlot.get_figure().savefig(\"output.png\")"
   ]
  },
  {
   "cell_type": "code",
   "execution_count": null,
   "metadata": {},
   "outputs": [],
   "source": [
    "#Multi Channel Capture\n",
    "waveformDataframe = waveformCapture(['CHANnel1', 'CHANnel2'])\n",
    "samplePlot = waveformPlotter(waveformDataframe)   \n",
    "samplePlot.get_figure().savefig(\"output.png\")"
   ]
  },
  {
   "cell_type": "code",
   "execution_count": null,
   "metadata": {},
   "outputs": [],
   "source": [
    "#Math Channel Capture\n",
    "waveformDataframe = waveformCapture(['MATH1'])\n",
    "samplePlot = waveformPlotter(waveformDataframe)   \n",
    "samplePlot.get_figure().savefig(\"output.png\")"
   ]
  },
  {
   "cell_type": "code",
   "execution_count": null,
   "metadata": {},
   "outputs": [],
   "source": [
    "#Segmented Capture | With Time Offset\n",
    "segmentCount = int(scope.query(\":WAVeform:SEGMented:COUNt?\"))\n",
    "\n",
    "segmentTimetags = {}\n",
    "waveformDataframeList = []\n",
    "\n",
    "for n in range(1, segmentCount + 1, 1):   \n",
    "    scope.write(f\":ACQuire:SEGMented:INDex {n}\")\n",
    "    segmentTimetags[n] = float(scope.query(\":WAVeform:SEGMented:TTAG?\"))  # Get time tag of segment n ; always get time tags\n",
    "    \n",
    "for key,value in segmentTimetags.items():\n",
    "    scope.write(f\":ACQuire:SEGMented:INDex {key}\")\n",
    "    capture = waveformCapture(1, value)\n",
    "    capture['Segment Number'] = key\n",
    "    waveformDataframeList.append(capture)\n",
    "\n",
    "allSegmentOutput = pd.concat(waveformDataframeList)\n",
    "waveformPlotter(allSegmentOutput, figsizeX = 26)"
   ]
  },
  {
   "cell_type": "code",
   "execution_count": null,
   "metadata": {},
   "outputs": [],
   "source": [
    "#Segmented Capture | Without Time Offset\n",
    "segmentCount = int(scope.query(\":WAVeform:SEGMented:COUNt?\"))\n",
    "\n",
    "segmentTimetags = {}\n",
    "timespanList = []\n",
    "waveformDataframeList = []\n",
    "\n",
    "for n in range(1, segmentCount + 1, 1):   \n",
    "    scope.write(f\":ACQuire:SEGMented:INDex {n}\")\n",
    "    segmentTimetags[n] = float(scope.query(\":WAVeform:SEGMented:TTAG?\"))  # Get time tag of segment n ; always get time tags\n",
    "    \n",
    "for key,value in segmentTimetags.items():\n",
    "    scope.write(f\":ACQuire:SEGMented:INDex {key}\")\n",
    "    if key == 1:\n",
    "        capture = waveformCapture(1)\n",
    "        capture['Segment Number'] = key\n",
    "        waveformDataframeList.append(capture)\n",
    "        timespan = capture['Timestamp'].max() - capture['Timestamp'].min()\n",
    "        triggerOffset = capture['Timestamp'].min()\n",
    "    else:\n",
    "        capture = waveformCapture(1, timespan)\n",
    "        capture['Segment Number'] = key\n",
    "        waveformDataframeList.append(capture)\n",
    "        timespan = timespan + capture['Timestamp'].max() - capture['Timestamp'].min()\n",
    "    timespanList.append(timespan)\n",
    "        \n",
    "\n",
    "allSegmentOutput = pd.concat(waveformDataframeList)\n",
    "samplePlot = waveformPlotter(allSegmentOutput, figsizeX = 26)\n",
    "\n",
    "for timespan in timespanList:\n",
    "    samplePlot.axvline(x = timespan + triggerOffset, color = 'r')"
   ]
  }
 ]
}